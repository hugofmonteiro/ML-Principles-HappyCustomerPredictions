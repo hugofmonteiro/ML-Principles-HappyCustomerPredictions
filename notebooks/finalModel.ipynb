{
 "cells": [
  {
   "cell_type": "code",
   "execution_count": 59,
   "id": "74990522",
   "metadata": {},
   "outputs": [
    {
     "name": "stdout",
     "output_type": "stream",
     "text": [
      "Training Score is 0.8780487804878049 and Testing Score is 0.8125000000000001\n",
      "Feature importances: [0.14000593 0.21639683 0.02367085 0.27483368 0.03899518 0.04085674\n",
      " 0.2652408 ]\n"
     ]
    }
   ],
   "source": [
    "import pandas as pd\n",
    "import numpy as np\n",
    "from sklearn.ensemble import RandomForestClassifier\n",
    "from sklearn.model_selection import train_test_split\n",
    "from sklearn.metrics import f1_score, confusion_matrix\n",
    "\n",
    "# Load the data\n",
    "df = pd.read_csv('../../data/ACME-HappinessSurvey2020.csv')\n",
    "\n",
    "# Create new features based on averages\n",
    "var_pairs = [\n",
    "    ('X15', ['X1', 'X5'], 'X152'),\n",
    "    ('X36', ['X3', 'X5'], 'X362'),\n",
    "    ('X46', ['X4', 'X6'], 'X462')\n",
    "]\n",
    "\n",
    "for avg_var, vars_to_avg, new_var in var_pairs:\n",
    "    df[avg_var] = df[vars_to_avg].mean(axis=1)\n",
    "    df[new_var] = (df[avg_var] > 3).astype(int)\n",
    "\n",
    "# Creating the interaction between variables X2 and the newly created X15\n",
    "df['Interaction'] = df.iloc[:, 2] * df.iloc[:, 7]\n",
    "    \n",
    "# Create features and label\n",
    "features = df.iloc[:, [2, 7, 8, 9, 10, 12, 13]].values\n",
    "label = df.iloc[:, 0].values\n",
    "\n",
    "# Split the data\n",
    "X_train, X_test, y_train, y_test = train_test_split(features, \n",
    "                                                    label, \n",
    "                                                    test_size=0.2, \n",
    "                                                    random_state=0)\n",
    "\n",
    "# Random Forest Model\n",
    "model = RandomForestClassifier(max_depth=None, \n",
    "                               min_samples_leaf=1, \n",
    "                               min_samples_split=2, \n",
    "                               n_estimators=100, \n",
    "                               random_state=0)\n",
    "\n",
    "model.fit(X_train, y_train)\n",
    "\n",
    "# F1 Score\n",
    "print(\"Training Score is {} and Testing Score is {}\".format(\n",
    "    f1_score(y_train, model.predict(X_train)),\n",
    "    f1_score(y_test, model.predict(X_test))\n",
    "))\n",
    "\n",
    "# Feature importances\n",
    "importances = model.feature_importances_\n",
    "print(\"Feature importances:\", importances)"
   ]
  }
 ],
 "metadata": {
  "kernelspec": {
   "display_name": "Python 3 (ipykernel)",
   "language": "python",
   "name": "python3"
  },
  "language_info": {
   "codemirror_mode": {
    "name": "ipython",
    "version": 3
   },
   "file_extension": ".py",
   "mimetype": "text/x-python",
   "name": "python",
   "nbconvert_exporter": "python",
   "pygments_lexer": "ipython3",
   "version": "3.9.13"
  }
 },
 "nbformat": 4,
 "nbformat_minor": 5
}
