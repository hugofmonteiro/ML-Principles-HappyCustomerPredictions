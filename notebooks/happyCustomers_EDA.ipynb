{
 "cells": [
  {
   "cell_type": "markdown",
   "id": "a2d20149",
   "metadata": {},
   "source": [
    "# Happy Customers Project"
   ]
  },
  {
   "cell_type": "markdown",
   "id": "5d901392",
   "metadata": {},
   "source": [
    "- EDA analysis of variables in the raw dataset"
   ]
  },
  {
   "cell_type": "code",
   "execution_count": 1,
   "id": "1ce7129c",
   "metadata": {},
   "outputs": [],
   "source": [
    "import pandas as pd\n",
    "import numpy as np"
   ]
  },
  {
   "cell_type": "markdown",
   "id": "09bc710e",
   "metadata": {},
   "source": [
    "- Importing the dataset"
   ]
  },
  {
   "cell_type": "code",
   "execution_count": 52,
   "id": "fee7d02b",
   "metadata": {},
   "outputs": [],
   "source": [
    "df = pd.read_csv('../data/ACME-HappinessSurvey2020.csv')"
   ]
  },
  {
   "cell_type": "markdown",
   "id": "eed324c3",
   "metadata": {},
   "source": [
    "- Checking the shape of the dataframe"
   ]
  },
  {
   "cell_type": "code",
   "execution_count": 3,
   "id": "5455bbe5",
   "metadata": {},
   "outputs": [
    {
     "data": {
      "text/plain": [
       "(126, 7)"
      ]
     },
     "execution_count": 3,
     "metadata": {},
     "output_type": "execute_result"
    }
   ],
   "source": [
    "df.shape"
   ]
  },
  {
   "cell_type": "markdown",
   "id": "f3981fa0",
   "metadata": {},
   "source": [
    "- Checking dataframe structure"
   ]
  },
  {
   "cell_type": "code",
   "execution_count": 4,
   "id": "8d66be4b",
   "metadata": {},
   "outputs": [
    {
     "name": "stdout",
     "output_type": "stream",
     "text": [
      "<class 'pandas.core.frame.DataFrame'>\n",
      "RangeIndex: 126 entries, 0 to 125\n",
      "Data columns (total 7 columns):\n",
      " #   Column  Non-Null Count  Dtype\n",
      "---  ------  --------------  -----\n",
      " 0   Y       126 non-null    int64\n",
      " 1   X1      126 non-null    int64\n",
      " 2   X2      126 non-null    int64\n",
      " 3   X3      126 non-null    int64\n",
      " 4   X4      126 non-null    int64\n",
      " 5   X5      126 non-null    int64\n",
      " 6   X6      126 non-null    int64\n",
      "dtypes: int64(7)\n",
      "memory usage: 7.0 KB\n"
     ]
    }
   ],
   "source": [
    "df.info()"
   ]
  },
  {
   "cell_type": "markdown",
   "id": "19d26b22",
   "metadata": {},
   "source": [
    "- Checking the beginning of the dataframe"
   ]
  },
  {
   "cell_type": "code",
   "execution_count": 5,
   "id": "a29bde3b",
   "metadata": {},
   "outputs": [
    {
     "data": {
      "text/html": [
       "<div>\n",
       "<style scoped>\n",
       "    .dataframe tbody tr th:only-of-type {\n",
       "        vertical-align: middle;\n",
       "    }\n",
       "\n",
       "    .dataframe tbody tr th {\n",
       "        vertical-align: top;\n",
       "    }\n",
       "\n",
       "    .dataframe thead th {\n",
       "        text-align: right;\n",
       "    }\n",
       "</style>\n",
       "<table border=\"1\" class=\"dataframe\">\n",
       "  <thead>\n",
       "    <tr style=\"text-align: right;\">\n",
       "      <th></th>\n",
       "      <th>Y</th>\n",
       "      <th>X1</th>\n",
       "      <th>X2</th>\n",
       "      <th>X3</th>\n",
       "      <th>X4</th>\n",
       "      <th>X5</th>\n",
       "      <th>X6</th>\n",
       "    </tr>\n",
       "  </thead>\n",
       "  <tbody>\n",
       "    <tr>\n",
       "      <th>0</th>\n",
       "      <td>0</td>\n",
       "      <td>3</td>\n",
       "      <td>3</td>\n",
       "      <td>3</td>\n",
       "      <td>4</td>\n",
       "      <td>2</td>\n",
       "      <td>4</td>\n",
       "    </tr>\n",
       "    <tr>\n",
       "      <th>1</th>\n",
       "      <td>0</td>\n",
       "      <td>3</td>\n",
       "      <td>2</td>\n",
       "      <td>3</td>\n",
       "      <td>5</td>\n",
       "      <td>4</td>\n",
       "      <td>3</td>\n",
       "    </tr>\n",
       "    <tr>\n",
       "      <th>2</th>\n",
       "      <td>1</td>\n",
       "      <td>5</td>\n",
       "      <td>3</td>\n",
       "      <td>3</td>\n",
       "      <td>3</td>\n",
       "      <td>3</td>\n",
       "      <td>5</td>\n",
       "    </tr>\n",
       "    <tr>\n",
       "      <th>3</th>\n",
       "      <td>0</td>\n",
       "      <td>5</td>\n",
       "      <td>4</td>\n",
       "      <td>3</td>\n",
       "      <td>3</td>\n",
       "      <td>3</td>\n",
       "      <td>5</td>\n",
       "    </tr>\n",
       "    <tr>\n",
       "      <th>4</th>\n",
       "      <td>0</td>\n",
       "      <td>5</td>\n",
       "      <td>4</td>\n",
       "      <td>3</td>\n",
       "      <td>3</td>\n",
       "      <td>3</td>\n",
       "      <td>5</td>\n",
       "    </tr>\n",
       "  </tbody>\n",
       "</table>\n",
       "</div>"
      ],
      "text/plain": [
       "   Y  X1  X2  X3  X4  X5  X6\n",
       "0  0   3   3   3   4   2   4\n",
       "1  0   3   2   3   5   4   3\n",
       "2  1   5   3   3   3   3   5\n",
       "3  0   5   4   3   3   3   5\n",
       "4  0   5   4   3   3   3   5"
      ]
     },
     "execution_count": 5,
     "metadata": {},
     "output_type": "execute_result"
    }
   ],
   "source": [
    "df.head()"
   ]
  },
  {
   "cell_type": "markdown",
   "id": "e62713b5",
   "metadata": {},
   "source": [
    "- Checking for missing values"
   ]
  },
  {
   "cell_type": "code",
   "execution_count": 6,
   "id": "f931e4b6",
   "metadata": {},
   "outputs": [
    {
     "data": {
      "text/html": [
       "<div>\n",
       "<style scoped>\n",
       "    .dataframe tbody tr th:only-of-type {\n",
       "        vertical-align: middle;\n",
       "    }\n",
       "\n",
       "    .dataframe tbody tr th {\n",
       "        vertical-align: top;\n",
       "    }\n",
       "\n",
       "    .dataframe thead th {\n",
       "        text-align: right;\n",
       "    }\n",
       "</style>\n",
       "<table border=\"1\" class=\"dataframe\">\n",
       "  <thead>\n",
       "    <tr style=\"text-align: right;\">\n",
       "      <th></th>\n",
       "      <th>Y</th>\n",
       "      <th>X1</th>\n",
       "      <th>X2</th>\n",
       "      <th>X3</th>\n",
       "      <th>X4</th>\n",
       "      <th>X5</th>\n",
       "      <th>X6</th>\n",
       "    </tr>\n",
       "  </thead>\n",
       "  <tbody>\n",
       "    <tr>\n",
       "      <th>0</th>\n",
       "      <td>False</td>\n",
       "      <td>False</td>\n",
       "      <td>False</td>\n",
       "      <td>False</td>\n",
       "      <td>False</td>\n",
       "      <td>False</td>\n",
       "      <td>False</td>\n",
       "    </tr>\n",
       "    <tr>\n",
       "      <th>1</th>\n",
       "      <td>False</td>\n",
       "      <td>False</td>\n",
       "      <td>False</td>\n",
       "      <td>False</td>\n",
       "      <td>False</td>\n",
       "      <td>False</td>\n",
       "      <td>False</td>\n",
       "    </tr>\n",
       "    <tr>\n",
       "      <th>2</th>\n",
       "      <td>False</td>\n",
       "      <td>False</td>\n",
       "      <td>False</td>\n",
       "      <td>False</td>\n",
       "      <td>False</td>\n",
       "      <td>False</td>\n",
       "      <td>False</td>\n",
       "    </tr>\n",
       "    <tr>\n",
       "      <th>3</th>\n",
       "      <td>False</td>\n",
       "      <td>False</td>\n",
       "      <td>False</td>\n",
       "      <td>False</td>\n",
       "      <td>False</td>\n",
       "      <td>False</td>\n",
       "      <td>False</td>\n",
       "    </tr>\n",
       "    <tr>\n",
       "      <th>4</th>\n",
       "      <td>False</td>\n",
       "      <td>False</td>\n",
       "      <td>False</td>\n",
       "      <td>False</td>\n",
       "      <td>False</td>\n",
       "      <td>False</td>\n",
       "      <td>False</td>\n",
       "    </tr>\n",
       "    <tr>\n",
       "      <th>...</th>\n",
       "      <td>...</td>\n",
       "      <td>...</td>\n",
       "      <td>...</td>\n",
       "      <td>...</td>\n",
       "      <td>...</td>\n",
       "      <td>...</td>\n",
       "      <td>...</td>\n",
       "    </tr>\n",
       "    <tr>\n",
       "      <th>121</th>\n",
       "      <td>False</td>\n",
       "      <td>False</td>\n",
       "      <td>False</td>\n",
       "      <td>False</td>\n",
       "      <td>False</td>\n",
       "      <td>False</td>\n",
       "      <td>False</td>\n",
       "    </tr>\n",
       "    <tr>\n",
       "      <th>122</th>\n",
       "      <td>False</td>\n",
       "      <td>False</td>\n",
       "      <td>False</td>\n",
       "      <td>False</td>\n",
       "      <td>False</td>\n",
       "      <td>False</td>\n",
       "      <td>False</td>\n",
       "    </tr>\n",
       "    <tr>\n",
       "      <th>123</th>\n",
       "      <td>False</td>\n",
       "      <td>False</td>\n",
       "      <td>False</td>\n",
       "      <td>False</td>\n",
       "      <td>False</td>\n",
       "      <td>False</td>\n",
       "      <td>False</td>\n",
       "    </tr>\n",
       "    <tr>\n",
       "      <th>124</th>\n",
       "      <td>False</td>\n",
       "      <td>False</td>\n",
       "      <td>False</td>\n",
       "      <td>False</td>\n",
       "      <td>False</td>\n",
       "      <td>False</td>\n",
       "      <td>False</td>\n",
       "    </tr>\n",
       "    <tr>\n",
       "      <th>125</th>\n",
       "      <td>False</td>\n",
       "      <td>False</td>\n",
       "      <td>False</td>\n",
       "      <td>False</td>\n",
       "      <td>False</td>\n",
       "      <td>False</td>\n",
       "      <td>False</td>\n",
       "    </tr>\n",
       "  </tbody>\n",
       "</table>\n",
       "<p>126 rows × 7 columns</p>\n",
       "</div>"
      ],
      "text/plain": [
       "         Y     X1     X2     X3     X4     X5     X6\n",
       "0    False  False  False  False  False  False  False\n",
       "1    False  False  False  False  False  False  False\n",
       "2    False  False  False  False  False  False  False\n",
       "3    False  False  False  False  False  False  False\n",
       "4    False  False  False  False  False  False  False\n",
       "..     ...    ...    ...    ...    ...    ...    ...\n",
       "121  False  False  False  False  False  False  False\n",
       "122  False  False  False  False  False  False  False\n",
       "123  False  False  False  False  False  False  False\n",
       "124  False  False  False  False  False  False  False\n",
       "125  False  False  False  False  False  False  False\n",
       "\n",
       "[126 rows x 7 columns]"
      ]
     },
     "execution_count": 6,
     "metadata": {},
     "output_type": "execute_result"
    }
   ],
   "source": [
    "df.isna()"
   ]
  },
  {
   "cell_type": "code",
   "execution_count": 7,
   "id": "89136125",
   "metadata": {},
   "outputs": [],
   "source": [
    "null_values = df.isna().sum(axis=0)"
   ]
  },
  {
   "cell_type": "code",
   "execution_count": 8,
   "id": "2b668f49",
   "metadata": {
    "scrolled": true
   },
   "outputs": [
    {
     "data": {
      "text/plain": [
       "Y     0\n",
       "X1    0\n",
       "X2    0\n",
       "X3    0\n",
       "X4    0\n",
       "X5    0\n",
       "X6    0\n",
       "dtype: int64"
      ]
     },
     "execution_count": 8,
     "metadata": {},
     "output_type": "execute_result"
    }
   ],
   "source": [
    "null_values"
   ]
  },
  {
   "cell_type": "markdown",
   "id": "1d5743df",
   "metadata": {},
   "source": [
    "- Checking for variables with unique values"
   ]
  },
  {
   "cell_type": "code",
   "execution_count": 9,
   "id": "518b4abf",
   "metadata": {
    "scrolled": true
   },
   "outputs": [
    {
     "name": "stdout",
     "output_type": "stream",
     "text": [
      "Does the variable Y has unique values? -------->  False\n",
      "Does the variable X1 has unique values? -------->  False\n",
      "Does the variable X2 has unique values? -------->  False\n",
      "Does the variable X3 has unique values? -------->  False\n",
      "Does the variable X4 has unique values? -------->  False\n",
      "Does the variable X5 has unique values? -------->  False\n",
      "Does the variable X6 has unique values? -------->  False\n"
     ]
    }
   ],
   "source": [
    "for (columnName, columnData) in df.iteritems():\n",
    "    print('Does the variable', columnName, 'has unique values? --------> ', columnData.is_unique)"
   ]
  },
  {
   "cell_type": "markdown",
   "id": "bf28b099",
   "metadata": {},
   "source": [
    "- Since all variables are integers, there is no need to split the dataset into categorical and numerical variables\n",
    "- Next step is to perform EDA for numerical variables"
   ]
  },
  {
   "cell_type": "markdown",
   "id": "bac76d64",
   "metadata": {},
   "source": [
    "### Identifying skillness and distribution"
   ]
  },
  {
   "cell_type": "code",
   "execution_count": 10,
   "id": "89edd53c",
   "metadata": {},
   "outputs": [],
   "source": [
    "import seaborn as sns\n",
    "import matplotlib.pyplot as plt\n",
    "%matplotlib inline"
   ]
  },
  {
   "cell_type": "code",
   "execution_count": 11,
   "id": "0475a366",
   "metadata": {},
   "outputs": [
    {
     "name": "stdout",
     "output_type": "stream",
     "text": [
      "                Y          X1          X2          X3          X4          X5  \\\n",
      "count  126.000000  126.000000  126.000000  126.000000  126.000000  126.000000   \n",
      "mean     0.547619    4.333333    2.531746    3.309524    3.746032    3.650794   \n",
      "std      0.499714    0.800000    1.114892    1.023440    0.875776    1.147641   \n",
      "min      0.000000    1.000000    1.000000    1.000000    1.000000    1.000000   \n",
      "25%      0.000000    4.000000    2.000000    3.000000    3.000000    3.000000   \n",
      "50%      1.000000    5.000000    3.000000    3.000000    4.000000    4.000000   \n",
      "75%      1.000000    5.000000    3.000000    4.000000    4.000000    4.000000   \n",
      "max      1.000000    5.000000    5.000000    5.000000    5.000000    5.000000   \n",
      "\n",
      "               X6  \n",
      "count  126.000000  \n",
      "mean     4.253968  \n",
      "std      0.809311  \n",
      "min      1.000000  \n",
      "25%      4.000000  \n",
      "50%      4.000000  \n",
      "75%      5.000000  \n",
      "max      5.000000  \n"
     ]
    }
   ],
   "source": [
    "print(df.describe())"
   ]
  },
  {
   "cell_type": "code",
   "execution_count": 12,
   "id": "d065480f",
   "metadata": {},
   "outputs": [
    {
     "name": "stderr",
     "output_type": "stream",
     "text": [
      "/opt/miniconda3/lib/python3.9/site-packages/seaborn/_decorators.py:36: FutureWarning: Pass the following variable as a keyword arg: x. From version 0.12, the only valid positional argument will be `data`, and passing other arguments without an explicit keyword will result in an error or misinterpretation.\n",
      "  warnings.warn(\n",
      "/opt/miniconda3/lib/python3.9/site-packages/seaborn/_decorators.py:36: FutureWarning: Pass the following variable as a keyword arg: x. From version 0.12, the only valid positional argument will be `data`, and passing other arguments without an explicit keyword will result in an error or misinterpretation.\n",
      "  warnings.warn(\n"
     ]
    },
    {
     "data": {
      "image/png": "[encoded data removed]",
      "text/plain": [
       "<Figure size 864x432 with 2 Axes>"
      ]
     },
     "metadata": {
      "needs_background": "light"
     },
     "output_type": "display_data"
    },
    {
     "name": "stderr",
     "output_type": "stream",
     "text": [
      "/opt/miniconda3/lib/python3.9/site-packages/seaborn/_decorators.py:36: FutureWarning: Pass the following variable as a keyword arg: x. From version 0.12, the only valid positional argument will be `data`, and passing other arguments without an explicit keyword will result in an error or misinterpretation.\n",
      "  warnings.warn(\n",
      "/opt/miniconda3/lib/python3.9/site-packages/seaborn/_decorators.py:36: FutureWarning: Pass the following variable as a keyword arg: x. From version 0.12, the only valid positional argument will be `data`, and passing other arguments without an explicit keyword will result in an error or misinterpretation.\n",
      "  warnings.warn(\n"
     ]
    },
    {
     "data": {
      "image/png": "[encoded data removed]",
      "text/plain": [
       "<Figure size 864x432 with 2 Axes>"
      ]
     },
     "metadata": {
      "needs_background": "light"
     },
     "output_type": "display_data"
    },
    {
     "name": "stderr",
     "output_type": "stream",
     "text": [
      "/opt/miniconda3/lib/python3.9/site-packages/seaborn/_decorators.py:36: FutureWarning: Pass the following variable as a keyword arg: x. From version 0.12, the only valid positional argument will be `data`, and passing other arguments without an explicit keyword will result in an error or misinterpretation.\n",
      "  warnings.warn(\n",
      "/opt/miniconda3/lib/python3.9/site-packages/seaborn/_decorators.py:36: FutureWarning: Pass the following variable as a keyword arg: x. From version 0.12, the only valid positional argument will be `data`, and passing other arguments without an explicit keyword will result in an error or misinterpretation.\n",
      "  warnings.warn(\n"
     ]
    },
    {
     "data": {
      "image/png": "[encoded data removed]",
      "text/plain": [
       "<Figure size 864x432 with 2 Axes>"
      ]
     },
     "metadata": {
      "needs_background": "light"
     },
     "output_type": "display_data"
    },
    {
     "name": "stderr",
     "output_type": "stream",
     "text": [
      "/opt/miniconda3/lib/python3.9/site-packages/seaborn/_decorators.py:36: FutureWarning: Pass the following variable as a keyword arg: x. From version 0.12, the only valid positional argument will be `data`, and passing other arguments without an explicit keyword will result in an error or misinterpretation.\n",
      "  warnings.warn(\n"
     ]
    },
    {
     "ename": "IndexError",
     "evalue": "list index out of range",
     "output_type": "error",
     "traceback": [
      "\u001b[0;31m---------------------------------------------------------------------------\u001b[0m",
      "\u001b[0;31mIndexError\u001b[0m                                Traceback (most recent call last)",
      "Input \u001b[0;32mIn [12]\u001b[0m, in \u001b[0;36m<cell line: 3>\u001b[0;34m()\u001b[0m\n\u001b[1;32m      8\u001b[0m plt\u001b[38;5;241m.\u001b[39msubplot(\u001b[38;5;241m122\u001b[39m)\n\u001b[1;32m      9\u001b[0m plt\u001b[38;5;241m.\u001b[39mxticks(rotation \u001b[38;5;241m=\u001b[39m \u001b[38;5;241m45\u001b[39m)\n\u001b[0;32m---> 10\u001b[0m sns\u001b[38;5;241m.\u001b[39mcountplot(df[\u001b[43mcols\u001b[49m\u001b[43m[\u001b[49m\u001b[43mi\u001b[49m\u001b[38;5;241;43m+\u001b[39;49m\u001b[38;5;241;43m1\u001b[39;49m\u001b[43m]\u001b[49m])\n\u001b[1;32m     11\u001b[0m plt\u001b[38;5;241m.\u001b[39mtight_layout()\n\u001b[1;32m     12\u001b[0m plt\u001b[38;5;241m.\u001b[39mshow()\n",
      "\u001b[0;31mIndexError\u001b[0m: list index out of range"
     ]
    },
    {
     "data": {
      "image/png": "[encoded data removed]",
      "text/plain": [
       "<Figure size 864x432 with 2 Axes>"
      ]
     },
     "metadata": {
      "needs_background": "light"
     },
     "output_type": "display_data"
    }
   ],
   "source": [
    "cols = ['Y', 'X1', 'X2', 'X3', 'X4', 'X5', 'X6']\n",
    "\n",
    "for i in range(0,len(cols),2):\n",
    "        plt.figure(figsize=(12,6))\n",
    "        plt.subplot(121)\n",
    "        plt.xticks(rotation = 45)\n",
    "        sns.countplot(df[cols[i]])\n",
    "        plt.subplot(122)\n",
    "        plt.xticks(rotation = 45)\n",
    "        sns.countplot(df[cols[i+1]])\n",
    "        plt.tight_layout()\n",
    "        plt.show()"
   ]
  },
  {
   "cell_type": "code",
   "execution_count": 13,
   "id": "f1ad00d6",
   "metadata": {},
   "outputs": [
    {
     "data": {
      "text/plain": [
       "<AxesSubplot:>"
      ]
     },
     "execution_count": 13,
     "metadata": {},
     "output_type": "execute_result"
    },
    {
     "data": {
      "image/png": "[encoded data removed]",
      "text/plain": [
       "<Figure size 1008x720 with 2 Axes>"
      ]
     },
     "metadata": {
      "needs_background": "light"
     },
     "output_type": "display_data"
    }
   ],
   "source": [
    "k = 7\n",
    "cols = df.corr().nlargest(k, 'Y')['Y'].index\n",
    "cm = df[cols].corr()\n",
    "plt.figure(figsize=(14,10))\n",
    "sns.heatmap(cm, annot=True, cmap = 'viridis')"
   ]
  },
  {
   "cell_type": "markdown",
   "id": "45131594",
   "metadata": {},
   "source": [
    "- Grouping all variables into one named 'X7'\n",
    "- X7 means overall satisfaction based on the other variables\n",
    "- Only clients with overall rate of 5 for all questions were considered happy (extreme scenario)"
   ]
  },
  {
   "cell_type": "code",
   "execution_count": 53,
   "id": "d30297e7",
   "metadata": {
    "scrolled": false
   },
   "outputs": [
    {
     "data": {
      "text/plain": [
       "0      0\n",
       "1      1\n",
       "2      1\n",
       "3      1\n",
       "4      1\n",
       "      ..\n",
       "121    1\n",
       "122    1\n",
       "123    1\n",
       "124    1\n",
       "125    1\n",
       "Name: X152, Length: 126, dtype: int64"
      ]
     },
     "execution_count": 53,
     "metadata": {},
     "output_type": "execute_result"
    }
   ],
   "source": [
    "# Grouping to variable X15\n",
    "df['X15'] = (df['X1'] + df['X5'])/2\n",
    "\n",
    "def enconder(df) : \n",
    "    if  df['X15'] > 3 :\n",
    "        return 1\n",
    "    else : \n",
    "        return 0\n",
    "    \n",
    "    \n",
    "df['X152'] = df.apply(lambda df:enconder(df), axis = 1)\n",
    "df['X152']"
   ]
  },
  {
   "cell_type": "code",
   "execution_count": 54,
   "id": "7542ab49",
   "metadata": {},
   "outputs": [
    {
     "data": {
      "text/plain": [
       "0      0\n",
       "1      1\n",
       "2      0\n",
       "3      0\n",
       "4      0\n",
       "      ..\n",
       "121    1\n",
       "122    0\n",
       "123    1\n",
       "124    1\n",
       "125    1\n",
       "Name: X162, Length: 126, dtype: int64"
      ]
     },
     "execution_count": 54,
     "metadata": {},
     "output_type": "execute_result"
    }
   ],
   "source": [
    "# Grouping to variable X16\n",
    "df['X16'] = (df['X3'] + df['X5'])/2\n",
    "\n",
    "def encoder(df) : \n",
    "    if  df['X16'] > 3 :\n",
    "        return 1\n",
    "    else : \n",
    "        return 0\n",
    "    \n",
    "    \n",
    "df['X162'] = df.apply(lambda df:encoder(df), axis = 1)\n",
    "df['X162']"
   ]
  },
  {
   "cell_type": "code",
   "execution_count": 55,
   "id": "dbae088b",
   "metadata": {},
   "outputs": [
    {
     "data": {
      "text/html": [
       "<div>\n",
       "<style scoped>\n",
       "    .dataframe tbody tr th:only-of-type {\n",
       "        vertical-align: middle;\n",
       "    }\n",
       "\n",
       "    .dataframe tbody tr th {\n",
       "        vertical-align: top;\n",
       "    }\n",
       "\n",
       "    .dataframe thead th {\n",
       "        text-align: right;\n",
       "    }\n",
       "</style>\n",
       "<table border=\"1\" class=\"dataframe\">\n",
       "  <thead>\n",
       "    <tr style=\"text-align: right;\">\n",
       "      <th></th>\n",
       "      <th>Y</th>\n",
       "      <th>X1</th>\n",
       "      <th>X2</th>\n",
       "      <th>X3</th>\n",
       "      <th>X4</th>\n",
       "      <th>X5</th>\n",
       "      <th>X6</th>\n",
       "      <th>X15</th>\n",
       "      <th>X152</th>\n",
       "      <th>X16</th>\n",
       "      <th>X162</th>\n",
       "    </tr>\n",
       "  </thead>\n",
       "  <tbody>\n",
       "    <tr>\n",
       "      <th>0</th>\n",
       "      <td>0</td>\n",
       "      <td>3</td>\n",
       "      <td>3</td>\n",
       "      <td>3</td>\n",
       "      <td>4</td>\n",
       "      <td>2</td>\n",
       "      <td>4</td>\n",
       "      <td>2.5</td>\n",
       "      <td>0</td>\n",
       "      <td>2.5</td>\n",
       "      <td>0</td>\n",
       "    </tr>\n",
       "    <tr>\n",
       "      <th>1</th>\n",
       "      <td>0</td>\n",
       "      <td>3</td>\n",
       "      <td>2</td>\n",
       "      <td>3</td>\n",
       "      <td>5</td>\n",
       "      <td>4</td>\n",
       "      <td>3</td>\n",
       "      <td>3.5</td>\n",
       "      <td>1</td>\n",
       "      <td>3.5</td>\n",
       "      <td>1</td>\n",
       "    </tr>\n",
       "    <tr>\n",
       "      <th>2</th>\n",
       "      <td>1</td>\n",
       "      <td>5</td>\n",
       "      <td>3</td>\n",
       "      <td>3</td>\n",
       "      <td>3</td>\n",
       "      <td>3</td>\n",
       "      <td>5</td>\n",
       "      <td>4.0</td>\n",
       "      <td>1</td>\n",
       "      <td>3.0</td>\n",
       "      <td>0</td>\n",
       "    </tr>\n",
       "    <tr>\n",
       "      <th>3</th>\n",
       "      <td>0</td>\n",
       "      <td>5</td>\n",
       "      <td>4</td>\n",
       "      <td>3</td>\n",
       "      <td>3</td>\n",
       "      <td>3</td>\n",
       "      <td>5</td>\n",
       "      <td>4.0</td>\n",
       "      <td>1</td>\n",
       "      <td>3.0</td>\n",
       "      <td>0</td>\n",
       "    </tr>\n",
       "    <tr>\n",
       "      <th>4</th>\n",
       "      <td>0</td>\n",
       "      <td>5</td>\n",
       "      <td>4</td>\n",
       "      <td>3</td>\n",
       "      <td>3</td>\n",
       "      <td>3</td>\n",
       "      <td>5</td>\n",
       "      <td>4.0</td>\n",
       "      <td>1</td>\n",
       "      <td>3.0</td>\n",
       "      <td>0</td>\n",
       "    </tr>\n",
       "    <tr>\n",
       "      <th>...</th>\n",
       "      <td>...</td>\n",
       "      <td>...</td>\n",
       "      <td>...</td>\n",
       "      <td>...</td>\n",
       "      <td>...</td>\n",
       "      <td>...</td>\n",
       "      <td>...</td>\n",
       "      <td>...</td>\n",
       "      <td>...</td>\n",
       "      <td>...</td>\n",
       "      <td>...</td>\n",
       "    </tr>\n",
       "    <tr>\n",
       "      <th>121</th>\n",
       "      <td>1</td>\n",
       "      <td>5</td>\n",
       "      <td>2</td>\n",
       "      <td>3</td>\n",
       "      <td>4</td>\n",
       "      <td>4</td>\n",
       "      <td>3</td>\n",
       "      <td>4.5</td>\n",
       "      <td>1</td>\n",
       "      <td>3.5</td>\n",
       "      <td>1</td>\n",
       "    </tr>\n",
       "    <tr>\n",
       "      <th>122</th>\n",
       "      <td>1</td>\n",
       "      <td>5</td>\n",
       "      <td>2</td>\n",
       "      <td>3</td>\n",
       "      <td>4</td>\n",
       "      <td>2</td>\n",
       "      <td>5</td>\n",
       "      <td>3.5</td>\n",
       "      <td>1</td>\n",
       "      <td>2.5</td>\n",
       "      <td>0</td>\n",
       "    </tr>\n",
       "    <tr>\n",
       "      <th>123</th>\n",
       "      <td>1</td>\n",
       "      <td>5</td>\n",
       "      <td>3</td>\n",
       "      <td>3</td>\n",
       "      <td>4</td>\n",
       "      <td>4</td>\n",
       "      <td>5</td>\n",
       "      <td>4.5</td>\n",
       "      <td>1</td>\n",
       "      <td>3.5</td>\n",
       "      <td>1</td>\n",
       "    </tr>\n",
       "    <tr>\n",
       "      <th>124</th>\n",
       "      <td>0</td>\n",
       "      <td>4</td>\n",
       "      <td>3</td>\n",
       "      <td>3</td>\n",
       "      <td>4</td>\n",
       "      <td>4</td>\n",
       "      <td>5</td>\n",
       "      <td>4.0</td>\n",
       "      <td>1</td>\n",
       "      <td>3.5</td>\n",
       "      <td>1</td>\n",
       "    </tr>\n",
       "    <tr>\n",
       "      <th>125</th>\n",
       "      <td>0</td>\n",
       "      <td>5</td>\n",
       "      <td>3</td>\n",
       "      <td>2</td>\n",
       "      <td>5</td>\n",
       "      <td>5</td>\n",
       "      <td>5</td>\n",
       "      <td>5.0</td>\n",
       "      <td>1</td>\n",
       "      <td>3.5</td>\n",
       "      <td>1</td>\n",
       "    </tr>\n",
       "  </tbody>\n",
       "</table>\n",
       "<p>126 rows × 11 columns</p>\n",
       "</div>"
      ],
      "text/plain": [
       "     Y  X1  X2  X3  X4  X5  X6  X15  X152  X16  X162\n",
       "0    0   3   3   3   4   2   4  2.5     0  2.5     0\n",
       "1    0   3   2   3   5   4   3  3.5     1  3.5     1\n",
       "2    1   5   3   3   3   3   5  4.0     1  3.0     0\n",
       "3    0   5   4   3   3   3   5  4.0     1  3.0     0\n",
       "4    0   5   4   3   3   3   5  4.0     1  3.0     0\n",
       "..  ..  ..  ..  ..  ..  ..  ..  ...   ...  ...   ...\n",
       "121  1   5   2   3   4   4   3  4.5     1  3.5     1\n",
       "122  1   5   2   3   4   2   5  3.5     1  2.5     0\n",
       "123  1   5   3   3   4   4   5  4.5     1  3.5     1\n",
       "124  0   4   3   3   4   4   5  4.0     1  3.5     1\n",
       "125  0   5   3   2   5   5   5  5.0     1  3.5     1\n",
       "\n",
       "[126 rows x 11 columns]"
      ]
     },
     "execution_count": 55,
     "metadata": {},
     "output_type": "execute_result"
    }
   ],
   "source": [
    "df"
   ]
  },
  {
   "cell_type": "markdown",
   "id": "0cdff4d1",
   "metadata": {},
   "source": [
    "### Applying a logistic regression to get a glance of the current scenario"
   ]
  },
  {
   "cell_type": "code",
   "execution_count": 83,
   "id": "947e3abf",
   "metadata": {},
   "outputs": [],
   "source": [
    "#Importing Logistic Regression model\n",
    "from sklearn.linear_model import LogisticRegression\n",
    "from sklearn.metrics import confusion_matrix, accuracy_score, classification_report\n",
    "from sklearn.model_selection import train_test_split"
   ]
  },
  {
   "cell_type": "code",
   "execution_count": 84,
   "id": "ef5c3a5a",
   "metadata": {},
   "outputs": [],
   "source": [
    "#Create features and label\n",
    "features = df.iloc[:, [2,4,6,7,8,9,10]].values\n",
    "label = df.iloc[:,0].values"
   ]
  },
  {
   "cell_type": "code",
   "execution_count": 85,
   "id": "f8c5b105",
   "metadata": {},
   "outputs": [
    {
     "data": {
      "text/plain": [
       "array([[3. , 4. , 4. , 2.5, 0. , 2.5, 0. ],\n",
       "       [2. , 5. , 3. , 3.5, 1. , 3.5, 1. ],\n",
       "       [3. , 3. , 5. , 4. , 1. , 3. , 0. ],\n",
       "       [4. , 3. , 5. , 4. , 1. , 3. , 0. ],\n",
       "       [4. , 3. , 5. , 4. , 1. , 3. , 0. ],\n",
       "       [5. , 5. , 5. , 5. , 1. , 4. , 1. ],\n",
       "       [1. , 2. , 3. , 2. , 0. , 1.5, 0. ],\n",
       "       [4. , 4. , 5. , 4.5, 1. , 4. , 1. ],\n",
       "       [1. , 4. , 4. , 4. , 1. , 4. , 1. ],\n",
       "       [4. , 2. , 5. , 4.5, 1. , 4.5, 1. ],\n",
       "       [2. , 3. , 3. , 2.5, 0. , 2.5, 0. ],\n",
       "       [4. , 4. , 4. , 4. , 1. , 3.5, 1. ],\n",
       "       [2. , 5. , 5. , 5. , 1. , 4.5, 1. ],\n",
       "       [2. , 5. , 3. , 4. , 1. , 4. , 1. ],\n",
       "       [1. , 3. , 3. , 4. , 1. , 3.5, 1. ],\n",
       "       [2. , 3. , 4. , 3.5, 1. , 4. , 1. ],\n",
       "       [3. , 5. , 5. , 4.5, 1. , 4. , 1. ],\n",
       "       [1. , 3. , 5. , 4.5, 1. , 4. , 1. ],\n",
       "       [1. , 4. , 5. , 4.5, 1. , 3. , 0. ],\n",
       "       [2. , 4. , 4. , 4. , 1. , 4. , 1. ],\n",
       "       [2. , 3. , 4. , 4. , 1. , 3.5, 1. ],\n",
       "       [3. , 5. , 4. , 4.5, 1. , 5. , 1. ],\n",
       "       [3. , 5. , 4. , 4.5, 1. , 5. , 1. ],\n",
       "       [1. , 5. , 4. , 3.5, 1. , 2. , 0. ],\n",
       "       [3. , 3. , 4. , 3.5, 1. , 3. , 0. ],\n",
       "       [4. , 3. , 3. , 2.5, 0. , 2.5, 0. ],\n",
       "       [3. , 5. , 5. , 4. , 1. , 4. , 1. ],\n",
       "       [3. , 3. , 4. , 3. , 0. , 2. , 0. ],\n",
       "       [3. , 3. , 4. , 3. , 0. , 2. , 0. ],\n",
       "       [3. , 3. , 3. , 5. , 1. , 4. , 1. ],\n",
       "       [3. , 3. , 3. , 5. , 1. , 4. , 1. ],\n",
       "       [1. , 4. , 5. , 4. , 1. , 3.5, 1. ],\n",
       "       [2. , 4. , 5. , 3.5, 1. , 4. , 1. ],\n",
       "       [2. , 4. , 5. , 3.5, 1. , 4. , 1. ],\n",
       "       [1. , 1. , 4. , 2.5, 0. , 2. , 0. ],\n",
       "       [2. , 3. , 4. , 4. , 1. , 3.5, 1. ],\n",
       "       [3. , 3. , 5. , 4.5, 1. , 4. , 1. ],\n",
       "       [3. , 3. , 5. , 4.5, 1. , 4. , 1. ],\n",
       "       [2. , 3. , 5. , 3.5, 1. , 2.5, 0. ],\n",
       "       [4. , 4. , 4. , 3. , 0. , 2.5, 0. ],\n",
       "       [2. , 3. , 3. , 4. , 1. , 3. , 0. ],\n",
       "       [2. , 3. , 4. , 3. , 0. , 3. , 0. ],\n",
       "       [2. , 3. , 5. , 4.5, 1. , 3.5, 1. ],\n",
       "       [3. , 4. , 4. , 3. , 0. , 2.5, 0. ],\n",
       "       [1. , 4. , 5. , 3. , 0. , 2.5, 0. ],\n",
       "       [3. , 4. , 5. , 4.5, 1. , 4. , 1. ],\n",
       "       [3. , 4. , 5. , 4.5, 1. , 3.5, 1. ],\n",
       "       [1. , 3. , 4. , 1. , 0. , 1. , 0. ],\n",
       "       [2. , 5. , 3. , 5. , 1. , 5. , 1. ],\n",
       "       [1. , 3. , 4. , 4.5, 1. , 3.5, 1. ],\n",
       "       [1. , 3. , 4. , 4.5, 1. , 3.5, 1. ],\n",
       "       [1. , 3. , 4. , 4.5, 1. , 3.5, 1. ],\n",
       "       [2. , 3. , 5. , 4.5, 1. , 4. , 1. ],\n",
       "       [2. , 3. , 5. , 4.5, 1. , 4. , 1. ],\n",
       "       [3. , 4. , 4. , 3.5, 1. , 2.5, 0. ],\n",
       "       [3. , 4. , 4. , 3.5, 1. , 2.5, 0. ],\n",
       "       [1. , 5. , 5. , 4. , 1. , 2. , 0. ],\n",
       "       [4. , 4. , 4. , 3.5, 1. , 3.5, 1. ],\n",
       "       [3. , 5. , 5. , 4.5, 1. , 4.5, 1. ],\n",
       "       [2. , 2. , 4. , 3.5, 1. , 3. , 0. ],\n",
       "       [3. , 3. , 5. , 3.5, 1. , 3. , 0. ],\n",
       "       [2. , 4. , 5. , 5. , 1. , 4.5, 1. ],\n",
       "       [2. , 4. , 5. , 5. , 1. , 4.5, 1. ],\n",
       "       [5. , 2. , 5. , 5. , 1. , 5. , 1. ],\n",
       "       [1. , 4. , 4. , 4. , 1. , 3.5, 1. ],\n",
       "       [1. , 4. , 4. , 4. , 1. , 3.5, 1. ],\n",
       "       [3. , 5. , 3. , 3.5, 1. , 3.5, 1. ],\n",
       "       [1. , 3. , 4. , 4. , 1. , 2.5, 0. ],\n",
       "       [1. , 5. , 5. , 5. , 1. , 5. , 1. ],\n",
       "       [4. , 5. , 5. , 5. , 1. , 5. , 1. ],\n",
       "       [3. , 4. , 4. , 3.5, 1. , 3. , 0. ],\n",
       "       [5. , 5. , 3. , 2.5, 0. , 3. , 0. ],\n",
       "       [3. , 4. , 4. , 3. , 0. , 2.5, 0. ],\n",
       "       [2. , 3. , 5. , 3.5, 1. , 2.5, 0. ],\n",
       "       [2. , 5. , 5. , 5. , 1. , 5. , 1. ],\n",
       "       [2. , 3. , 4. , 3.5, 1. , 3.5, 1. ],\n",
       "       [3. , 3. , 4. , 3. , 0. , 2. , 0. ],\n",
       "       [2. , 5. , 5. , 5. , 1. , 4. , 1. ],\n",
       "       [3. , 3. , 5. , 3.5, 1. , 2.5, 0. ],\n",
       "       [5. , 5. , 5. , 5. , 1. , 5. , 1. ],\n",
       "       [3. , 4. , 4. , 4. , 1. , 3. , 0. ],\n",
       "       [3. , 3. , 4. , 3. , 0. , 3. , 0. ],\n",
       "       [2. , 4. , 4. , 4. , 1. , 4. , 1. ],\n",
       "       [3. , 4. , 4. , 4.5, 1. , 3. , 0. ],\n",
       "       [3. , 4. , 4. , 3. , 0. , 3. , 0. ],\n",
       "       [2. , 4. , 5. , 4.5, 1. , 3.5, 1. ],\n",
       "       [3. , 3. , 5. , 5. , 1. , 4. , 1. ],\n",
       "       [1. , 4. , 3. , 4. , 1. , 3.5, 1. ],\n",
       "       [4. , 4. , 5. , 4. , 1. , 2.5, 0. ],\n",
       "       [3. , 3. , 3. , 2.5, 0. , 1.5, 0. ],\n",
       "       [4. , 4. , 4. , 4. , 1. , 5. , 1. ],\n",
       "       [1. , 4. , 5. , 5. , 1. , 4. , 1. ],\n",
       "       [4. , 5. , 4. , 5. , 1. , 5. , 1. ],\n",
       "       [4. , 4. , 5. , 4.5, 1. , 4. , 1. ],\n",
       "       [1. , 2. , 2. , 2. , 0. , 2. , 0. ],\n",
       "       [5. , 5. , 5. , 5. , 1. , 5. , 1. ],\n",
       "       [4. , 4. , 3. , 3.5, 1. , 3. , 0. ],\n",
       "       [4. , 4. , 4. , 5. , 1. , 5. , 1. ],\n",
       "       [2. , 4. , 3. , 3.5, 1. , 3. , 0. ],\n",
       "       [3. , 4. , 4. , 3.5, 1. , 3. , 0. ],\n",
       "       [2. , 4. , 5. , 5. , 1. , 3.5, 1. ],\n",
       "       [3. , 3. , 3. , 4.5, 1. , 4. , 1. ],\n",
       "       [2. , 3. , 5. , 4. , 1. , 3. , 0. ],\n",
       "       [3. , 4. , 4. , 3.5, 1. , 3.5, 1. ],\n",
       "       [1. , 5. , 5. , 3.5, 1. , 3. , 0. ],\n",
       "       [1. , 3. , 5. , 5. , 1. , 4.5, 1. ],\n",
       "       [1. , 3. , 5. , 5. , 1. , 5. , 1. ],\n",
       "       [2. , 4. , 4. , 4. , 1. , 4. , 1. ],\n",
       "       [2. , 4. , 5. , 5. , 1. , 4.5, 1. ],\n",
       "       [3. , 4. , 4. , 4.5, 1. , 4. , 1. ],\n",
       "       [3. , 4. , 5. , 4.5, 1. , 3.5, 1. ],\n",
       "       [3. , 4. , 4. , 4.5, 1. , 3.5, 1. ],\n",
       "       [1. , 3. , 4. , 3.5, 1. , 3. , 0. ],\n",
       "       [1. , 4. , 5. , 4.5, 1. , 4. , 1. ],\n",
       "       [2. , 4. , 5. , 4.5, 1. , 3. , 0. ],\n",
       "       [3. , 4. , 5. , 5. , 1. , 5. , 1. ],\n",
       "       [4. , 5. , 3. , 2. , 0. , 2.5, 0. ],\n",
       "       [1. , 5. , 5. , 5. , 1. , 5. , 1. ],\n",
       "       [3. , 4. , 4. , 4. , 1. , 3.5, 1. ],\n",
       "       [5. , 1. , 1. , 5. , 1. , 3. , 0. ],\n",
       "       [4. , 4. , 3. , 2.5, 0. , 2.5, 0. ],\n",
       "       [2. , 4. , 3. , 4.5, 1. , 3.5, 1. ],\n",
       "       [2. , 4. , 5. , 3.5, 1. , 2.5, 0. ],\n",
       "       [3. , 4. , 5. , 4.5, 1. , 3.5, 1. ],\n",
       "       [3. , 4. , 5. , 4. , 1. , 3.5, 1. ],\n",
       "       [3. , 5. , 5. , 5. , 1. , 3.5, 1. ]])"
      ]
     },
     "execution_count": 85,
     "metadata": {},
     "output_type": "execute_result"
    }
   ],
   "source": [
    "features"
   ]
  },
  {
   "cell_type": "code",
   "execution_count": 86,
   "id": "8776b342",
   "metadata": {
    "scrolled": true
   },
   "outputs": [
    {
     "data": {
      "text/plain": [
       "(126,)"
      ]
     },
     "execution_count": 86,
     "metadata": {},
     "output_type": "execute_result"
    }
   ],
   "source": [
    "label.shape"
   ]
  },
  {
   "cell_type": "code",
   "execution_count": 87,
   "id": "ed7029a7",
   "metadata": {},
   "outputs": [],
   "source": [
    "X_train, X_test, y_train, y_test = train_test_split(features, \n",
    "                                                    label, \n",
    "                                                    test_size=0.2, \n",
    "                                                    random_state=42)"
   ]
  },
  {
   "cell_type": "code",
   "execution_count": 88,
   "id": "df770901",
   "metadata": {},
   "outputs": [],
   "source": [
    "#X_train = X_train.reshape(-1, 1)\n",
    "#X_test = X_test.reshape(-1, 1)\n"
   ]
  },
  {
   "cell_type": "code",
   "execution_count": 89,
   "id": "465ba772",
   "metadata": {},
   "outputs": [
    {
     "data": {
      "text/plain": [
       "LogisticRegression()"
      ]
     },
     "execution_count": 89,
     "metadata": {},
     "output_type": "execute_result"
    }
   ],
   "source": [
    "model = LogisticRegression()\n",
    "model.fit(X_train,y_train)"
   ]
  },
  {
   "cell_type": "code",
   "execution_count": 90,
   "id": "0bf38e75",
   "metadata": {},
   "outputs": [
    {
     "name": "stdout",
     "output_type": "stream",
     "text": [
      "Training Score is 0.732824427480916 and Testing Score is 0.6451612903225806\n"
     ]
    }
   ],
   "source": [
    "#F1 Score\n",
    "from sklearn.metrics import f1_score\n",
    "print(\"Training Score is {} and Testing Score is {}\".format(f1_score(y_train, model.predict(X_train)),f1_score(y_test, model.predict(X_test))))"
   ]
  },
  {
   "cell_type": "code",
   "execution_count": 91,
   "id": "0e5711ce",
   "metadata": {},
   "outputs": [
    {
     "name": "stdout",
     "output_type": "stream",
     "text": [
      "              precision    recall  f1-score   support\n",
      "\n",
      "           0       0.63      0.40      0.49        42\n",
      "           1       0.66      0.83      0.73        58\n",
      "\n",
      "    accuracy                           0.65       100\n",
      "   macro avg       0.64      0.62      0.61       100\n",
      "weighted avg       0.65      0.65      0.63       100\n",
      "\n"
     ]
    }
   ],
   "source": [
    "from sklearn.metrics import classification_report\n",
    "print(classification_report(y_train,model.predict(X_train)))"
   ]
  },
  {
   "cell_type": "code",
   "execution_count": 92,
   "id": "65db2d22",
   "metadata": {},
   "outputs": [],
   "source": [
    "y_pred = model.predict(X_test)"
   ]
  },
  {
   "cell_type": "code",
   "execution_count": 93,
   "id": "dc15d922",
   "metadata": {},
   "outputs": [
    {
     "data": {
      "text/plain": [
       "array([[ 5, 10],\n",
       "       [ 1, 10]])"
      ]
     },
     "execution_count": 93,
     "metadata": {},
     "output_type": "execute_result"
    }
   ],
   "source": [
    "confusion_matrix(y_test, y_pred)"
   ]
  },
  {
   "cell_type": "code",
   "execution_count": 48,
   "id": "670cc886",
   "metadata": {},
   "outputs": [],
   "source": [
    "import matplotlib.cm as cm\n",
    "from matplotlib import offsetbox\n",
    "from sklearn import decomposition"
   ]
  },
  {
   "cell_type": "code",
   "execution_count": 29,
   "id": "ea32f25c",
   "metadata": {},
   "outputs": [
    {
     "data": {
      "text/plain": [
       "(126, 2)"
      ]
     },
     "execution_count": 29,
     "metadata": {},
     "output_type": "execute_result"
    }
   ],
   "source": [
    "features_pca = decomposition.PCA(n_components=2).fit_transform(features)\n",
    "features_pca.shape"
   ]
  },
  {
   "cell_type": "code",
   "execution_count": 30,
   "id": "7dcbff02",
   "metadata": {},
   "outputs": [],
   "source": [
    "def embedding_plot(features,labels,title):\n",
    "  plt.scatter(features[:, 0], features[:, 1], c=labels, cmap='Spectral', s=5)\n",
    "  plt.gca().set_facecolor((1, 1, 1))\n",
    "  plt.xlabel('1st dimension')\n",
    "  plt.ylabel('2nd dimension')\n",
    "  plt.colorbar(boundaries=np.arange(2)-0.5).set_ticks(np.arange(2))\n",
    "  plt.grid(False)\n",
    "  plt.title(title, fontsize=24);"
   ]
  },
  {
   "cell_type": "code",
   "execution_count": 31,
   "id": "22a1c435",
   "metadata": {},
   "outputs": [
    {
     "data": {
      "image/png": "[encoded data removed]",
      "text/plain": [
       "<Figure size 432x288 with 2 Axes>"
      ]
     },
     "metadata": {
      "needs_background": "light"
     },
     "output_type": "display_data"
    }
   ],
   "source": [
    "embedding_plot(features_pca, label,\"PCA\")"
   ]
  },
  {
   "cell_type": "code",
   "execution_count": 75,
   "id": "ee5956dd",
   "metadata": {},
   "outputs": [
    {
     "name": "stdout",
     "output_type": "stream",
     "text": [
      "[0.4132233  0.27609043 0.1387808  0.11177536 0.03548451]\n"
     ]
    },
    {
     "data": {
      "image/png": "[encoded data removed]",
      "text/plain": [
       "<Figure size 432x288 with 1 Axes>"
      ]
     },
     "metadata": {
      "needs_background": "light"
     },
     "output_type": "display_data"
    }
   ],
   "source": [
    "component_num = 7\n",
    "pca = decomposition.PCA(n_components=component_num)\n",
    "pca.fit_transform(features)\n",
    "\n",
    "plt.scatter(range(0,component_num),np.cumsum(pca.explained_variance_ratio_))\n",
    "plt.gca().set_facecolor((1, 1, 1))\n",
    "plt.xlabel('components')\n",
    "plt.ylabel('variance explained')\n",
    "\n",
    "print(pca.explained_variance_ratio_[0:5])"
   ]
  }
 ],
 "metadata": {
  "kernelspec": {
   "display_name": "Python 3 (ipykernel)",
   "language": "python",
   "name": "python3"
  },
  "language_info": {
   "codemirror_mode": {
    "name": "ipython",
    "version": 3
   },
   "file_extension": ".py",
   "mimetype": "text/x-python",
   "name": "python",
   "nbconvert_exporter": "python",
   "pygments_lexer": "ipython3",
   "version": "3.9.13"
  }
 },
 "nbformat": 4,
 "nbformat_minor": 5
}
